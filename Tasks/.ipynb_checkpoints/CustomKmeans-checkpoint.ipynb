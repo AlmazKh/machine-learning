{
 "cells": [
  {
   "cell_type": "code",
   "execution_count": 1,
   "metadata": {},
   "outputs": [],
   "source": [
    "import numpy as np\n",
    "import matplotlib.pyplot as plt\n",
    "\n",
    "\n",
    "X = np.array([[1,2], [1,4], [2,0], [4,2], [4,4], [1,1]])\n",
    "\n",
    "\n",
    "class K_Means():\n",
    "    def __init__(self, dataset, n_clusters = 3):\n",
    "        self.dataset = dataset\n",
    "        self.n_clusters = n_clusters\n",
    "        self.max_n_iter = 100\n",
    "        self.tolerance = .01\n",
    "        self.dist_count_method = 0  # квадрат евклидова расстояния по умолчанию\n",
    "        self.fitted = False\n",
    "        self.labels = np.array([])\n",
    "        self.centroids = np.array([np.random.randint(self.find_min_coordinates(), self.find_max_coordinates(), size=(2)) for k in range(self.n_clusters)], dtype='f')\n",
    "\n",
    "        \n",
    "    def find_min_coordinates(self):\n",
    "        return self.dataset.min(axis=0)\n",
    "    \n",
    "    \n",
    "    def find_max_coordinates(self):\n",
    "        return self.dataset.max(axis=0)\n",
    "        \n",
    "        \n",
    "    def get_dist(self, list1, list2):\n",
    "        if(self.dist_count_method == 0): # квадрат евклидова расстояния\n",
    "            return np.sqrt(sum((i-j)**2 for i,j in zip(list1, list2))) # для zip должна быть одинаковая размерность, иначе ошибка\n",
    "        elif(self.dist_count_method == 1):  # Евклидово расстояния\n",
    "            return sum((i-j)**2 for i,j in zip(list1, list2))\n",
    "        elif(self.dist_count_method == 2):  # расстояние городских кварталов\n",
    "            return sum(abs(i-j) for i,j in zip(list1, list2))\n",
    "        elif(self.dist_count_method == 3):  # расстояние Чебышева\n",
    "            return max(abs(i-j) for i,j in zip(list1, list2))  \n",
    "    \n",
    "    \n",
    "    def select_dist_count_method(self):\n",
    "        selected_method = -1\n",
    "        print(\"Choose number:\\n 0 - квадрат евклидова расстояния\\n 1 - Евклидово расстояния\\n 2 - расстояние городских кварталов\\n 3 - расстояние Чебышева\\n\")\n",
    "        while selected_method < 0 or selected_method > 3: \n",
    "            selected_method = int(input())\n",
    "            if(0 <= selected_method <= 3):\n",
    "                self.dist_count_method = selected_method\n",
    "            else:\n",
    "                print(\"Choose number:\\n 0 - квадрат евклидова расстояния\\n 1 - Евклидово расстояния\\n 2 - расстояние городских кварталов\\n 3 - расстояние Чебышева\\n\")\n",
    "    \n",
    "    \n",
    "    def distribute_data(self):\n",
    "        self.labels = np.array([])\n",
    "        for elem in self.dataset:\n",
    "            dist = [self.get_dist(elem, center) for center in self.centroids]\n",
    "            self.labels = np.append(self.labels, [dist.index(min(dist))]).astype(int)\n",
    "    \n",
    "    \n",
    "    def recalculate_centroids(self):\n",
    "        for i in range(self.n_clusters):\n",
    "            num = 0\n",
    "            temp = np.zeros(self.dataset[0].shape)\n",
    "            for k, label in enumerate(self.labels):\n",
    "                if label == i:\n",
    "                    temp += self.dataset[k]\n",
    "                    num += 1\n",
    "            self.centroids[i] = temp/num\n",
    "            \n",
    "    \n",
    "    def fit(self):\n",
    "        iter = 1\n",
    "        while iter < self.max_n_iter:\n",
    "            prev_centroids = np.copy(self.centroids)\n",
    "            self.distribute_data()\n",
    "            self.recalculate_centroids()\n",
    "            if max([self.get_dist(i, k) for i,k in zip(self.centroids, prev_centroids)]) < self.tolerance:\n",
    "                break\n",
    "            iter += 1\n",
    "        self.fitted = True  \n",
    "        \n",
    "    \n",
    "    def predict(self, data):\n",
    "        if self.fitted:\n",
    "            labels_ = np.array([])\n",
    "            for elem in data:\n",
    "                dist = [self.get_dist(elem, center) for center in self.centroids]\n",
    "                labels_ = np.append(labels_, [dist.index(min(dist))]).astype(int)\n",
    "            return labels_\n",
    "        else:\n",
    "            print(\"Run K_means.fit() first\") \n",
    "            return np.array([])\n"
   ]
  },
  {
   "cell_type": "code",
   "execution_count": 28,
   "metadata": {},
   "outputs": [
    {
     "name": "stdout",
     "output_type": "stream",
     "text": [
      "Choose number:\n",
      " 0 - квадрат евклидова расстояния\n",
      " 1 - Евклидово расстояния\n",
      " 2 - расстояние городских кварталов\n",
      " 3 - расстояние Чебышева\n",
      "\n",
      "2\n",
      "[1 1 0 1 1 0]\n",
      "[0 1 0 1 1 0]\n"
     ]
    },
    {
     "data": {
      "image/png": "[encoded data removed]",
      "text/plain": [
       "<Figure size 432x288 with 2 Axes>"
      ]
     },
     "metadata": {
      "needs_background": "light"
     },
     "output_type": "display_data"
    }
   ],
   "source": [
    "kmeans = K_Means(X, 2)\n",
    "kmeans.select_dist_count_method()\n",
    "kmeans.fit()\n",
    "\n",
    "test_data = [np.random.randint([0, 0], [10, 10], size=(2)) for k in range(6)]\n",
    "labels = kmeans.predict(test_data)\n",
    "print(labels)\n",
    "print(kmeans.labels)\n",
    "\n",
    "color_list = np.array(['red', 'green', 'blue', '#ff7507', '#03560F'])\n",
    "\n",
    "fig, axarr = plt.subplots(nrows=1, ncols=2, sharex=True)\n",
    "axarr[0].scatter(X[:,0], X[:,1], c=color_list[kmeans.labels])\n",
    "axarr[0].scatter(kmeans.centroids[:,0], kmeans.centroids[:,1], c='black', marker='x')\n",
    "axarr[1].scatter(np.concatenate((X,test_data))[:,0], np.concatenate((X,test_data))[:,1], c=color_list[np.concatenate((kmeans.labels, labels))])\n",
    "axarr[1].scatter(kmeans.centroids[:,0], kmeans.centroids[:,1], c='black', marker='x')\n",
    "plt.show()\n",
    "\n"
   ]
  },
  {
   "cell_type": "code",
   "execution_count": null,
   "metadata": {},
   "outputs": [],
   "source": []
  }
 ],
 "metadata": {
  "kernelspec": {
   "display_name": "Python 3",
   "language": "python",
   "name": "python3"
  },
  "language_info": {
   "codemirror_mode": {
    "name": "ipython",
    "version": 3
   },
   "file_extension": ".py",
   "mimetype": "text/x-python",
   "name": "python",
   "nbconvert_exporter": "python",
   "pygments_lexer": "ipython3",
   "version": "3.7.6"
  }
 },
 "nbformat": 4,
 "nbformat_minor": 4
}
